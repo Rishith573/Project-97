{
 "cells": [
  {
   "cell_type": "code",
   "execution_count": 2,
   "id": "01a3e442",
   "metadata": {},
   "outputs": [
    {
     "name": "stdout",
     "output_type": "stream",
     "text": [
      "Number guessing game\n",
      "Guess a number between 1 and 9\n",
      "Enter you guess: 3\n",
      "The guess is too low 3\n",
      "Enter you guess: 5\n",
      "The guess is too low 5\n",
      "Enter you guess: 8\n",
      "Congratulations!, u guessed it right\n"
     ]
    }
   ],
   "source": [
    "import random\n",
    "print(\"Number guessing game\")\n",
    "number = random.randint(1, 9)\n",
    "chances = 0\n",
    "print(\"Guess a number between 1 and 9\")\n",
    "while chances <= 3:\n",
    "    guess = int(input(\"Enter you guess: \"))\n",
    "    if guess == number:\n",
    "        print(\"Congratulations!, u guessed it right\")\n",
    "        break\n",
    "    elif guess < number:\n",
    "        print(\"The guess is too low\", guess)\n",
    "    else:\n",
    "        print(\"Your guess is too high\", guess)\n",
    "    chances = chances+1\n",
    "if not chances <= 3:\n",
    "    print(\"You lost!, the number is: \", number)\n",
    "    "
   ]
  },
  {
   "cell_type": "code",
   "execution_count": null,
   "id": "b59ae6d7",
   "metadata": {},
   "outputs": [],
   "source": []
  }
 ],
 "metadata": {
  "kernelspec": {
   "display_name": "Python 3 (ipykernel)",
   "language": "python",
   "name": "python3"
  },
  "language_info": {
   "codemirror_mode": {
    "name": "ipython",
    "version": 3
   },
   "file_extension": ".py",
   "mimetype": "text/x-python",
   "name": "python",
   "nbconvert_exporter": "python",
   "pygments_lexer": "ipython3",
   "version": "3.10.1"
  }
 },
 "nbformat": 4,
 "nbformat_minor": 5
}
